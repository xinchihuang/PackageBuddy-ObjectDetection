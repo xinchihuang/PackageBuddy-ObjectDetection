{
 "cells": [
  {
   "cell_type": "markdown",
   "metadata": {},
   "source": [
    "# 1 Shot Data"
   ]
  },
  {
   "cell_type": "markdown",
   "metadata": {},
   "source": [
    "### 80 classes"
   ]
  },
  {
   "cell_type": "markdown",
   "metadata": {},
   "source": [
    "Detection"
   ]
  },
  {
   "cell_type": "code",
   "execution_count": null,
   "metadata": {},
   "outputs": [],
   "source": [
    "mAP = [21.9, 21.9, 21.9, 21.9, 21.6]\n",
    "mAP50 = [35.6, 35.6, 35.3, 35.7, 35.3]\n",
    "mAP75 = [23.5, 23.4, 23.5, 23.3, 23.2]\n",
    "mAP_small = [11.1, 11.3, 10.7, 11.0, 11.3]\n",
    "mAP_medium = [21.9, 21.7, 21.6, 22.0, 21.7]\n",
    "mAP_large = [31.0, 30.4, 31.2, 31.1, 30.1]\n",
    "AR1 = [19.9, 20.0, 20.2, 19.8, 19.6]\n",
    "AR10 = [37.4, 38.0, 37.5, 37.5, 37.6]\n",
    "AR100 = [39.0, 39.5, 39.2, 39.2, 39.2]\n",
    "AR_small = [21.6, 22.9, 22.0, 22.4, 22.0]\n",
    "AR_medium = [41.1, 41.2, 40.9, 41.1, 40.8]\n",
    "AR_large = [56.5, 56.5, 57.1, 56.3, 56.3]"
   ]
  },
  {
   "cell_type": "markdown",
   "metadata": {},
   "source": [
    "Segmentation"
   ]
  },
  {
   "cell_type": "code",
   "execution_count": null,
   "metadata": {},
   "outputs": [],
   "source": [
    "mAP = [19.3, 19.4, 19.2, 19.4, 19.1]\n",
    "mAP50 = [33.1, 33.3, 33.1, 33.2, 33.0]\n",
    "mAP75 = [20.0, 20.0, 19.8, 19.9, 19.9]\n",
    "mAP_small = [9.3, 9.5, 8.8, 9.3, 9.6]\n",
    "mAP_medium = [19.4, 19.5, 19.3, 19.6, 19.4]\n",
    "mAP_large = [27.5, 27.1, 27.9, 28.0, 27.1]\n",
    "AR1 = [18.0, 18.0, 18.1, 18.0, 17.6]\n",
    "AR10 = [33.3, 33.7, 33.4, 33.6, 33.5]\n",
    "AR100 = [34.7, 35.1, 34.9, 35.0, 34.8]\n",
    "AR_small = [19.0, 20.0, 19.1, 19.7, 19.2]\n",
    "AR_medium = [36.8, 36.9, 36.9, 37.0, 36.8]\n",
    "AR_large = [49.7, 49.8, 50.4, 49.9, 49.8]"
   ]
  },
  {
   "cell_type": "markdown",
   "metadata": {},
   "source": [
    "### S1"
   ]
  },
  {
   "cell_type": "markdown",
   "metadata": {},
   "source": [
    "#### background"
   ]
  },
  {
   "cell_type": "markdown",
   "metadata": {},
   "source": [
    "Detection"
   ]
  },
  {
   "cell_type": "code",
   "execution_count": null,
   "metadata": {},
   "outputs": [],
   "source": [
    "mAP = [23.6, 23.7, 23.6, 23.7, 23.5]\n",
    "mAP50 = [38.8, 39.1, 39.2, 39.3, 39.0]\n",
    "mAP75 = [25.4, 25.0, 25.0, 25.0, 24.8]\n",
    "mAP_small = [11.0, 11.5, 11.4, 11.7, 11.3]\n",
    "mAP_medium = [23.2, 23.4, 23.1, 23.7, 23.3]\n",
    "mAP_large = [33.6, 34.1, 33.8, 33.5, 33.8]\n",
    "AR1 = [20.7, 20.9, 21.0, 20.9, 20.9]\n",
    "AR10 = [38.9, 38.7, 39.0, 39.1, 39.0]\n",
    "AR100 = [40.7, 40.7, 40.8, 40.7, 40.7]\n",
    "AR_small = [22.4, 23.0, 23.2, 22.9, 23.2]\n",
    "AR_medium = [43.2, 43.2, 43.1, 43.1, 43.1]\n",
    "AR_large = [57.2, 56.2, 58.5, 58.0, 57.5]"
   ]
  },
  {
   "cell_type": "markdown",
   "metadata": {},
   "source": [
    "Segmentation"
   ]
  },
  {
   "cell_type": "code",
   "execution_count": null,
   "metadata": {},
   "outputs": [],
   "source": [
    "mAP = [20.8, 20.9, 20.8, 21.0, 20.8]\n",
    "mAP50 = [36.4, 36.6, 36.7, 36.9, 36.5]\n",
    "mAP75 = [20.9, 21.2, 21.1, 21.0, 20.9]\n",
    "mAP_small = [8.9, 9.5, 9.3, 9.6, 9.2]\n",
    "mAP_medium = [20.7, 21.0, 20.7, 21.0, 20.9]\n",
    "mAP_large = [30.4, 30.7, 30.3, 30.4, 30.6]\n",
    "AR1 = [18.8, 19.0, 19.2, 19.1, 19.1]\n",
    "AR10 = [34.4, 34.6, 34.6, 34.8, 34.7]\n",
    "AR100 = [35.9, 36.2, 36.1, 36.2, 36.1]\n",
    "AR_small = [19.0, 19.7, 19.9, 19.7, 19.7]\n",
    "AR_medium = [39.0, 39.0, 38.8, 38.9, 38.9]\n",
    "AR_large = [50.8, 51.0, 51.8, 51.3, 51.8]"
   ]
  },
  {
   "cell_type": "markdown",
   "metadata": {},
   "source": [
    "#### one-shot"
   ]
  },
  {
   "cell_type": "markdown",
   "metadata": {},
   "source": [
    "Detection"
   ]
  },
  {
   "cell_type": "code",
   "execution_count": null,
   "metadata": {},
   "outputs": [],
   "source": [
    "mAP = [8.5, 8.4, 8.4, 8.7, 8.9]\n",
    "mAP50 = [15.2, 15.0, 15.0, 15.5, 15.7]\n",
    "mAP75 = [8.9, 8.3, 8.6, 8.8, 9.2]\n",
    "mAP_small = [6.0, 4.7, 4.4, 5.0, 5.0]\n",
    "mAP_medium = [8.2, 8.3, 8.3, 8.8, 9.4]\n",
    "mAP_large = [13.5, 13.3, 13.5, 14.0, 13.3]\n",
    "AR1 = [10.4, 10.0, 10.2, 10.8, 10.1]\n",
    "AR10 = [26.9, 25.9, 26.1, 26.7, 26.6]\n",
    "AR100 = [28.1, 26.9, 27.5, 28.0, 28.0]\n",
    "AR_small = [14.6, 12.5, 13.6, 13.8, 17.7]\n",
    "AR_medium = [30.1, 28.2, 30.1, 30.7, 30.2]\n",
    "AR_large = [43.4, 41.9, 42.1, 43.9, 44.6]"
   ]
  },
  {
   "cell_type": "markdown",
   "metadata": {},
   "source": [
    "Segmentation"
   ]
  },
  {
   "cell_type": "code",
   "execution_count": null,
   "metadata": {},
   "outputs": [],
   "source": [
    "mAP = [6.6, 6.5, 6.5, 6.8, 7.0]\n",
    "mAP50 = [13.5, 13.2, 13.1, 13.6, 13.9]\n",
    "mAP75 = [5.9, 6.0, 5.7, 6.3, 6.2]\n",
    "mAP_small = [4.4, 3.7, 3.3, 3.8, 3.9]\n",
    "mAP_medium = [6.5, 6.5, 6.6, 7.0, 7.4]\n",
    "mAP_large = [11.1, 10.8, 10.9, 11.4, 10.7]\n",
    "AR1 = [8.4, 8.1, 8.2, 8.7, 8.2]\n",
    "AR10 = [22.4, 21.7, 21.4, 22.3, 22.1]\n",
    "AR100 = [23.4, 22.5, 22.5, 23.2, 23.2]\n",
    "AR_small = [11.6, 10.1, 10.7, 11.0, 15.0]\n",
    "AR_medium = [25.5, 23.9, 25.0, 26.0, 25.8]\n",
    "AR_large = [35.8, 35.0, 35.8, 36.5, 37.4]"
   ]
  },
  {
   "cell_type": "markdown",
   "metadata": {},
   "source": [
    "### S2"
   ]
  },
  {
   "cell_type": "markdown",
   "metadata": {},
   "source": [
    "#### background"
   ]
  },
  {
   "cell_type": "markdown",
   "metadata": {},
   "source": [
    "Detection"
   ]
  },
  {
   "cell_type": "code",
   "execution_count": null,
   "metadata": {},
   "outputs": [],
   "source": [
    "mAP = [21.9, 21.9, 22.0, 22.1, 21.8]\n",
    "mAP50 = [36.4, 36.4, 36.6, 36.9, 36.5]\n",
    "mAP75 = [23.8, 23.8, 23.5, 23.2, 23.4]\n",
    "mAP_small = [11.1, 11.7, 11.6, 11.3, 11.3]\n",
    "mAP_medium = [22.9, 22.4, 22.3, 22.6, 22.7]\n",
    "mAP_large = [31.0, 31.4, 31.3, 31.0, 31.0]\n",
    "AR1 = [19.7, 20.2, 19.9, 20.1, 19.8]\n",
    "AR10 = [37.7, 38.0, 38.0, 37.7, 37.9]\n",
    "AR100 = [39.3, 39.4, 39.5, 39.1, 39.6]\n",
    "AR_small = [21.9, 22.9, 23.2, 22.1, 23.4]\n",
    "AR_medium = [41.9, 41.5, 42.1, 41.7, 42.2]\n",
    "AR_large = [57.5, 57.7, 56.9, 56.3, 57.1]"
   ]
  },
  {
   "cell_type": "markdown",
   "metadata": {},
   "source": [
    "Segmentation"
   ]
  },
  {
   "cell_type": "code",
   "execution_count": null,
   "metadata": {},
   "outputs": [],
   "source": [
    "mAP = [18.9, 18.8, 18.9, 19.1, 18.8]\n",
    "mAP50 = [33.6, 33.4, 33.5, 33.7, 33.4]\n",
    "mAP75 = [19.3, 19.3, 19.5, 19.8, 19.1]\n",
    "mAP_small = [9.1, 9.5, 9.4, 9.1, 9.1]\n",
    "mAP_medium = [19.7, 19.2, 19.0, 19.4, 19.3]\n",
    "mAP_large = [27.2, 27.5, 27.6, 27.5, 27.2]\n",
    "AR1 = [17.7, 17.9, 17.8, 18.0, 17.7]\n",
    "AR10 = [33.3, 33.2, 33.3, 32.9, 33.2]\n",
    "AR100 = [34.6, 34.4, 34.6, 34.1, 34.6]\n",
    "AR_small = [19.3, 19.8, 20.1, 18.8, 20.2]\n",
    "AR_medium = [36.9, 36.3, 36.6, 36.8, 36.8]\n",
    "AR_large = [50.3, 50.0, 50.1, 49.2, 50.4]"
   ]
  },
  {
   "cell_type": "markdown",
   "metadata": {},
   "source": [
    "#### one-shot"
   ]
  },
  {
   "cell_type": "markdown",
   "metadata": {},
   "source": [
    "Detection"
   ]
  },
  {
   "cell_type": "code",
   "execution_count": null,
   "metadata": {},
   "outputs": [],
   "source": [
    "mAP = [9.8, 10.0, 9.6, 10.0, 9.6]\n",
    "mAP50 = [16.7, 17.2, 16.7, 17.0, 16.4]\n",
    "mAP75 = [10.3, 10.4, 9.8, 10.2, 9.8]\n",
    "mAP_small = [5.8, 5.9, 5.6, 5.7, 5.6]\n",
    "mAP_medium = [7.8, 8.6, 8.9, 8.6, 8.0]\n",
    "mAP_large = [14.4, 15.3, 14.4, 15.2, 14.7]\n",
    "AR1 = [12.1, 12.2, 12.2, 12.1, 12.3]\n",
    "AR10 = [26.9, 26.7, 26.2, 27.0, 26.5]\n",
    "AR100 = [28.1, 27.8, 27.3, 28.0, 27.5]\n",
    "AR_small = [14.5, 14.5, 12.9, 13.9, 13.9]\n",
    "AR_medium = [27.4, 27.8, 27.5, 28.0, 27.3]\n",
    "AR_large = [43.7, 44.8, 43.6, 44.9, 42.3]"
   ]
  },
  {
   "cell_type": "markdown",
   "metadata": {},
   "source": [
    "Segmentation"
   ]
  },
  {
   "cell_type": "code",
   "execution_count": null,
   "metadata": {},
   "outputs": [],
   "source": [
    "mAP = [8.4, 8.7, 8.3, 8.6, 8.3]\n",
    "mAP50 = [14.9, 15.2, 14.7, 15.1, 14.6]\n",
    "mAP75 = [8.7, 8.9, 8.6, 8.7, 8.4]\n",
    "mAP_small = [4.8, 5.0, 4.5, 4.6, 4.5]\n",
    "mAP_medium = [6.9, 7.5, 7.9, 7.6, 7.0]\n",
    "mAP_large = [12.5, 13.4, 12.3, 13.1, 12.6]\n",
    "AR1 = [10.7, 11.0, 10.9, 10.8, 10.8]\n",
    "AR10 = [23.7, 23.7, 23.1, 23.8, 23.4]\n",
    "AR100 = [24.8, 24.6, 24.1, 24.7, 24.3]\n",
    "AR_small = [12.1, 11.9, 10.9, 12.0, 11.7]\n",
    "AR_medium = [24.5, 24.9, 24.7, 24.8, 24.7]\n",
    "AR_large = [39.5, 40.4, 38.4, 40.3, 37.8]"
   ]
  },
  {
   "cell_type": "markdown",
   "metadata": {},
   "source": [
    "### S3"
   ]
  },
  {
   "cell_type": "markdown",
   "metadata": {},
   "source": [
    "#### background"
   ]
  },
  {
   "cell_type": "markdown",
   "metadata": {},
   "source": [
    "Detection"
   ]
  },
  {
   "cell_type": "code",
   "execution_count": null,
   "metadata": {},
   "outputs": [],
   "source": [
    "mAP = [23.2, 23.4, 23.1, 23.2, 23.4]\n",
    "mAP50 = [37.3, 37.8, 37.1, 37.6, 37.6]\n",
    "mAP75 = [25.1, 25.3, 24.9, 25.1, 25.4]\n",
    "mAP_small = [11.1, 11.6, 11.3, 10.5, 11.1]\n",
    "mAP_medium = [21.9, 22.6, 22.5, 22.8, 22.7]\n",
    "mAP_large = [34.0, 33.3, 33.3, 32.9, 33.7]\n",
    "AR1 = [20.9, 21.0, 20.9, 21.0, 20.8]\n",
    "AR10 = [39.3, 39.2, 39.4, 39.4, 39.4]\n",
    "AR100 = [40.9, 40.9, 41.0, 41.1, 41.1]\n",
    "AR_small = [21.5, 22.1, 21.9, 21.9, 21.8]\n",
    "AR_medium = [42.9, 42.9, 43.1, 43.2, 43.2]\n",
    "AR_large = [60.1, 58.5, 60.3, 59.7, 59.9]"
   ]
  },
  {
   "cell_type": "markdown",
   "metadata": {},
   "source": [
    "Segmentation"
   ]
  },
  {
   "cell_type": "code",
   "execution_count": null,
   "metadata": {},
   "outputs": [],
   "source": [
    "mAP = [20.0, 20.1, 19.8, 19.9, 20.1]\n",
    "mAP50 = [35.0, 35.0, 34.4, 34.9, 35.0]\n",
    "mAP75 = [20.4, 20.2, 20.0, 20.1, 20.3]\n",
    "mAP_small = [9.0, 9.4, 9.1, 8.4, 9.0]\n",
    "mAP_medium = [19.0, 19.7, 19.3, 19.7, 19.7]\n",
    "mAP_large = [30.3, 29.4, 29.5, 29.1, 29.9]\n",
    "AR1 = [18.8, 18.8, 18.6, 18.7, 18.7]\n",
    "AR10 = [34.9, 34.7, 34.8, 34.9, 34.7]\n",
    "AR100 = [36.2, 36.1, 36.1, 36.3, 36.1]\n",
    "AR_small = [18.8, 18.7, 18.5, 18.5, 18.5]\n",
    "AR_medium = [38.5, 38.4, 38.0, 38.6, 38.3]\n",
    "AR_large = [54.0, 53.4, 54.3, 53.8, 53.9]"
   ]
  },
  {
   "cell_type": "markdown",
   "metadata": {},
   "source": [
    "#### one-shot"
   ]
  },
  {
   "cell_type": "markdown",
   "metadata": {},
   "source": [
    "Detection"
   ]
  },
  {
   "cell_type": "code",
   "execution_count": null,
   "metadata": {},
   "outputs": [],
   "source": [
    "mAP = [8.9, 8.7, 9.4, 8.8, 8.9]\n",
    "mAP50 = [16.7, 16.4, 17.5, 16.5, 16.4]\n",
    "mAP75 = [8.8, 8.4, 9.2, 8.7, 8.9]\n",
    "mAP_small = [5.7, 5.4, 6.1, 5.5, 5.1]\n",
    "mAP_medium = [8.2, 7.7, 8.3, 8.7, 8.0]\n",
    "mAP_large = [16.5, 16.2, 17.9, 15.9, 16.4]\n",
    "AR1 = [9.1, 9.3, 9.6, 9.4, 9.4]\n",
    "AR10 = [23.7, 23.7, 23.3, 23.8, 23.5]\n",
    "AR100 = [25.0, 24.6, 24.2, 24.9, 24.5]\n",
    "AR_small = [15.7, 14.7, 15.2, 15.5, 15.6]\n",
    "AR_medium = [25.4, 25.0, 24.1, 25.9, 25.1]\n",
    "AR_large = [39.6, 41.4, 39.5, 40.3, 39.2]"
   ]
  },
  {
   "cell_type": "markdown",
   "metadata": {},
   "source": [
    "Segmentation"
   ]
  },
  {
   "cell_type": "code",
   "execution_count": null,
   "metadata": {},
   "outputs": [],
   "source": [
    "mAP = [8.1, 8.1, 8.7, 8.0, 8.2]\n",
    "mAP50 = [15.6, 15.3, 16.2, 15.1, 15.4]\n",
    "mAP75 = [7.7, 7.7, 8.6, 7.9, 7.9]\n",
    "mAP_small = [4.8, 4.8, 5.1, 4.5, 4.2]\n",
    "mAP_medium = [7.1, 6.9, 7.3, 7.8, 7.1]\n",
    "mAP_large = [15.1, 15.2, 16.9, 14.4, 15.1]\n",
    "AR1 = [8.5, 9.1, 9.4, 9.1, 8.9]\n",
    "AR10 = [21.9, 21.9, 21.5, 21.8, 21.7]\n",
    "AR100 = [23.0, 22.7, 22.3, 22.8, 22.6]\n",
    "AR_small = [14.0, 13.5, 13.8, 13.9, 14.3]\n",
    "AR_medium = [23.1, 22.7, 21.9, 23.6, 22.6]\n",
    "AR_large = [35.6, 37.3, 36.0, 35.7, 35.0]"
   ]
  },
  {
   "cell_type": "markdown",
   "metadata": {},
   "source": [
    "### S4"
   ]
  },
  {
   "cell_type": "markdown",
   "metadata": {},
   "source": [
    "#### background"
   ]
  },
  {
   "cell_type": "markdown",
   "metadata": {},
   "source": [
    "Detection"
   ]
  },
  {
   "cell_type": "code",
   "execution_count": null,
   "metadata": {},
   "outputs": [],
   "source": [
    "mAP = [22.4, 23.0, 22.6, 22.4, 23.0]\n",
    "mAP50 = [36.7, 37.9, 37.0, 36.9, 37.7]\n",
    "mAP75 = [23.9, 24.8, 24.3, 23.9, 24.2]\n",
    "mAP_small = [11.9, 11.7, 12.1, 11.6, 12.4]\n",
    "mAP_medium = [21.0, 22.0, 21.6, 21.4, 22.0]\n",
    "mAP_large = [31.7, 31.8, 31.7, 31.1, 32.0]\n",
    "AR1 = [19.9, 20.3, 20.3, 19.7, 20.2]\n",
    "AR10 = [38.6, 38.6, 38.4, 38.5, 38.4]\n",
    "AR100 = [40.4, 40.5, 40.3, 40.5, 40.3]\n",
    "AR_small = [23.3, 23.2, 22.2, 23.9, 23.6]\n",
    "AR_medium = [42.3, 42.7, 41.9, 42.5, 42.5]\n",
    "AR_large = [56.9, 56.8, 57.2, 56.2, 56.4]"
   ]
  },
  {
   "cell_type": "markdown",
   "metadata": {},
   "source": [
    "Segmentation"
   ]
  },
  {
   "cell_type": "code",
   "execution_count": null,
   "metadata": {},
   "outputs": [],
   "source": [
    "mAP = [19.7, 20.3, 19.9, 19.7, 20.2]\n",
    "mAP50 = [34.2, 35.0, 34.4, 34.2, 34.9]\n",
    "mAP75 = [20.7, 21.2, 21.0, 20.6, 21.2]\n",
    "mAP_small = [9.9, 9.7, 10.2, 9.6, 10.3]\n",
    "mAP_medium = [18.4, 19.3, 19.1, 18.8, 19.3]\n",
    "mAP_large = [28.7, 28.8, 28.6, 27.9, 28.9]\n",
    "AR1 = [18.0, 18.4, 18.4, 17.9, 18.2]\n",
    "AR10 = [34.3, 34.4, 34.3, 34.4, 34.2]\n",
    "AR100 = [35.9, 34.9, 35.8, 36.1, 35.8]\n",
    "AR_small = [20.1, 20.0, 20.0, 21.0, 20.4]\n",
    "AR_medium = [37.5, 37.7, 37.2, 37.7, 37.4]\n",
    "AR_large = [51.5, 51.2, 51.6, 50.9, 50.9]"
   ]
  },
  {
   "cell_type": "markdown",
   "metadata": {},
   "source": [
    "#### one-shot"
   ]
  },
  {
   "cell_type": "markdown",
   "metadata": {},
   "source": [
    "Detection"
   ]
  },
  {
   "cell_type": "code",
   "execution_count": null,
   "metadata": {},
   "outputs": [],
   "source": [
    "mAP = [9.1, 9.3, 9.0, 9.1, 9.1]\n",
    "mAP50 = [16.4, 16.7, 16.1, 16.5, 16.2]\n",
    "mAP75 = [9.1, 9.3, 9.0, 9.3, 9.5]\n",
    "mAP_small = [5.4, 5.8, 5.7, 5.4, 4.8]\n",
    "mAP_medium = [9.7, 9.3, 9.0, 9.5, 9.5]\n",
    "mAP_large = [13.5, 13.9, 13.7, 14.6, 14.3]\n",
    "AR1 = [11.0, 10.9, 10.9, 11.1, 10.8]\n",
    "AR10 = [25.9, 25.3, 25.8, 25.6, 26.1]\n",
    "AR100 = [27.7, 27.1, 27.3, 27.3, 27.6]\n",
    "AR_small = [15.6, 14.0, 14.3, 14.9, 13.9]\n",
    "AR_medium = [31.3, 29.8, 30.7, 30.8, 31.0]\n",
    "AR_large = [42.5, 42.5, 43.6, 42.7, 44.8]"
   ]
  },
  {
   "cell_type": "markdown",
   "metadata": {},
   "source": [
    "Segmentation"
   ]
  },
  {
   "cell_type": "code",
   "execution_count": null,
   "metadata": {},
   "outputs": [],
   "source": [
    "mAP = [7.2, 7.4, 7.2, 7.3, 7.3]\n",
    "mAP50 = [14.1, 14.4, 14.0, 14.3, 14.3]\n",
    "mAP75 = [6.6, 6.7, 6.5, 6.6, 6.8]\n",
    "mAP_small = [3.7, 4.0, 4.0, 3.8, 3.3]\n",
    "mAP_medium = [8.1, 8.0, 7.6, 8.0, 7.9]\n",
    "mAP_large = [11.5, 11.7, 11.7, 11.9, 12.1]\n",
    "AR1 = [9.4, 9.4, 9.4, 9.4, 9.1]\n",
    "AR10 = [22.3, 22.1, 22.1, 22.4, 22.5]\n",
    "AR100 = [24.0, 23.7, 23.5, 23.9, 23.9]\n",
    "AR_small = [13.1, 11.4, 11.6, 12.7, 11.3]\n",
    "AR_medium = [28.7, 27.8, 27.7, 28.7, 28.1]\n",
    "AR_large = [38.3, 37.4, 38.2, 38.3, 38.8]"
   ]
  },
  {
   "cell_type": "markdown",
   "metadata": {},
   "source": [
    "# Analyses main table"
   ]
  },
  {
   "cell_type": "code",
   "execution_count": null,
   "metadata": {},
   "outputs": [],
   "source": [
    "import numpy as np"
   ]
  },
  {
   "cell_type": "code",
   "execution_count": null,
   "metadata": {},
   "outputs": [],
   "source": [
    "# background detection\n",
    "mAP50_s1 = [38.8, 39.1, 39.2, 39.3, 39.0]\n",
    "mAP50_s2 = [36.4, 36.4, 36.6, 36.9, 36.5]\n",
    "mAP50_s3 = [37.3, 37.8, 37.1, 37.6, 37.6]\n",
    "mAP50_s4 = [36.7, 37.9, 37.0, 36.9, 37.7]\n",
    "\n",
    "mAP50 = [mAP50_s1, mAP50_s2, mAP50_s3, mAP50_s4]\n",
    "mAP50_runwise = [np.mean([mAP50_s1[i], mAP50_s2[i], mAP50_s3[i], mAP50_s4[i]]) for i in range(5)]\n",
    "mean_mAP50 = [np.mean(mAP50[i]) for i in range(4)]\n",
    "std_mAP50 = [np.std(mAP50[i]) for i in range(4)]\n",
    "conf95_mAP50 = [std_mAP50[i]*1.96/np.sqrt(5) for i in range(4)]\n",
    "\n",
    "print('${:.1f}\\pm{:.2f}$'.format(np.mean(mAP50_runwise), np.std(mAP50_runwise)*1.96/np.sqrt(5)))"
   ]
  },
  {
   "cell_type": "code",
   "execution_count": null,
   "metadata": {},
   "outputs": [],
   "source": [
    "# background segmentation\n",
    "mAP50_s1 = [36.4, 36.6, 36.7, 36.9, 36.5]\n",
    "mAP50_s2 = [33.6, 33.4, 33.5, 33.7, 33.4]\n",
    "mAP50_s3 = [35.0, 35.0, 34.4, 34.9, 35.0]\n",
    "mAP50_s4 = [34.2, 35.0, 34.4, 34.2, 34.9]\n",
    "\n",
    "mAP50 = [mAP50_s1, mAP50_s2, mAP50_s3, mAP50_s4]\n",
    "mAP50_runwise = [np.mean([mAP50_s1[i], mAP50_s2[i], mAP50_s3[i], mAP50_s4[i]]) for i in range(5)]\n",
    "mean_mAP50 = [np.mean(mAP50[i]) for i in range(4)]\n",
    "std_mAP50 = [np.std(mAP50[i]) for i in range(4)]\n",
    "conf95_mAP50 = [std_mAP50[i]*1.96/np.sqrt(5) for i in range(4)]\n",
    "\n",
    "print('${:.1f}\\pm{:.2f}$'.format(np.mean(mAP50_runwise), np.std(mAP50_runwise)*1.96/np.sqrt(5)))"
   ]
  },
  {
   "cell_type": "code",
   "execution_count": null,
   "metadata": {},
   "outputs": [],
   "source": [
    "# one-shot detection\n",
    "mAP50_s1 = [15.2, 15.0, 15.0, 15.5, 15.7] \n",
    "mAP50_s2 = [16.7, 17.2, 16.7, 17.0, 16.4]\n",
    "mAP50_s3 = [16.7, 16.4, 17.5, 16.5, 16.4]\n",
    "mAP50_s4 = [16.4, 16.7, 16.1, 16.5, 16.2]\n",
    "\n",
    "mAP50 = [mAP50_s1, mAP50_s2, mAP50_s3, mAP50_s4]\n",
    "mAP50_runwise = [np.mean([mAP50_s1[i], mAP50_s2[i], mAP50_s3[i], mAP50_s4[i]]) for i in range(5)]\n",
    "mean_mAP50 = [np.mean(mAP50[i]) for i in range(4)]\n",
    "std_mAP50 = [np.std(mAP50[i]) for i in range(4)]\n",
    "conf95_mAP50 = [std_mAP50[i]*1.96/np.sqrt(5) for i in range(4)]\n",
    "\n",
    "print('${:.1f}\\pm{:.2f}$'.format(np.mean(mAP50_runwise), np.std(mAP50_runwise)*1.96/np.sqrt(5)))"
   ]
  },
  {
   "cell_type": "code",
   "execution_count": null,
   "metadata": {},
   "outputs": [],
   "source": [
    "# one-shot segmentation\n",
    "mAP50_s1 = [13.5, 13.2, 13.1, 13.6, 13.9]\n",
    "mAP50_s2 = [14.9, 15.2, 14.7, 15.1, 14.6]\n",
    "mAP50_s3 = [15.6, 15.3, 16.2, 15.1, 15.4]\n",
    "mAP50_s4 = [14.1, 14.4, 14.0, 14.3, 14.3]\n",
    "\n",
    "mAP50 = [mAP50_s1, mAP50_s2, mAP50_s3, mAP50_s4]\n",
    "mAP50_runwise = [np.mean([mAP50_s1[i], mAP50_s2[i], mAP50_s3[i], mAP50_s4[i]]) for i in range(5)]\n",
    "mean_mAP50 = [np.mean(mAP50[i]) for i in range(4)]\n",
    "std_mAP50 = [np.std(mAP50[i]) for i in range(4)]\n",
    "conf95_mAP50 = [std_mAP50[i]*1.96/np.sqrt(5) for i in range(4)]\n",
    "\n",
    "print('${:.1f}\\pm{:.2f}$'.format(np.mean(mAP50_runwise), np.std(mAP50_runwise)*1.96/np.sqrt(5)))"
   ]
  }
 ],
 "metadata": {
  "kernelspec": {
   "display_name": "Python 3",
   "language": "python",
   "name": "python3"
  },
  "language_info": {
   "codemirror_mode": {
    "name": "ipython",
    "version": 3
   },
   "file_extension": ".py",
   "mimetype": "text/x-python",
   "name": "python",
   "nbconvert_exporter": "python",
   "pygments_lexer": "ipython3",
   "version": "3.6.3"
  }
 },
 "nbformat": 4,
 "nbformat_minor": 2
}
