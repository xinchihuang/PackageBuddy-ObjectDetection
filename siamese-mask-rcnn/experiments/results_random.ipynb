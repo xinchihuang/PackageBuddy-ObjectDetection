{
 "cells": [
  {
   "cell_type": "markdown",
   "metadata": {},
   "source": [
    "# Analyses main table"
   ]
  },
  {
   "cell_type": "code",
   "execution_count": null,
   "metadata": {},
   "outputs": [],
   "source": [
    "import numpy as np"
   ]
  },
  {
   "cell_type": "code",
   "execution_count": null,
   "metadata": {},
   "outputs": [],
   "source": [
    "# etection\n",
    "mAP50_s1 = [0.9, 0.8, 0.8, 0.9, 0.8]\n",
    "mAP50_s2 = [1.9, 1.4, 1.4, 1.9, 1.7]\n",
    "mAP50_s3 = [0.6, 0.8, 0.7, 0.8, 1.1]\n",
    "mAP50_s4 = [1.3, 1.5, 1.4, 1.4, 1.2]\n",
    "\n",
    "mAP50 = [mAP50_s1, mAP50_s2, mAP50_s3, mAP50_s4]\n",
    "mAP50_runwise = [np.mean([mAP50_s1[i], mAP50_s2[i], mAP50_s3[i], mAP50_s4[i]]) for i in range(5)]\n",
    "mean_mAP50 = [np.mean(mAP50[i]) for i in range(4)]\n",
    "std_mAP50 = [np.std(mAP50[i]) for i in range(4)]\n",
    "conf95_mAP50 = [std_mAP50[i]*1.96/np.sqrt(5) for i in range(4)]\n",
    "\n",
    "print('${:.1f}\\pm{:.2f}$'.format(np.mean(mAP50_runwise), np.std(mAP50_runwise)*1.96/np.sqrt(5)))"
   ]
  },
  {
   "cell_type": "code",
   "execution_count": null,
   "metadata": {},
   "outputs": [],
   "source": [
    "# segmentation\n",
    "mAP50_s1 = [0.2, 0.2, 0.2, 0.2, 0.2]\n",
    "mAP50_s2 = [1.2, 0.7, 1.1, 1.1, 0.9]\n",
    "mAP50_s3 = [0.2, 0.4, 0.3, 0.6, 0.7]\n",
    "mAP50_s4 = [0.4, 0.4, 0.4, 0.5, 0.4]\n",
    "\n",
    "mAP50 = [mAP50_s1, mAP50_s2, mAP50_s3, mAP50_s4]\n",
    "mAP50_runwise = [np.mean([mAP50_s1[i], mAP50_s2[i], mAP50_s3[i], mAP50_s4[i]]) for i in range(5)]\n",
    "mean_mAP50 = [np.mean(mAP50[i]) for i in range(4)]\n",
    "std_mAP50 = [np.std(mAP50[i]) for i in range(4)]\n",
    "conf95_mAP50 = [std_mAP50[i]*1.96/np.sqrt(5) for i in range(4)]\n",
    "\n",
    "print('${:.1f}\\pm{:.2f}$'.format(np.mean(mAP50_runwise), np.std(mAP50_runwise)*1.96/np.sqrt(5)))"
   ]
  }
 ],
 "metadata": {
  "kernelspec": {
   "display_name": "",
   "name": ""
  },
  "language_info": {
   "codemirror_mode": {
    "name": "ipython",
    "version": 3
   },
   "file_extension": ".py",
   "mimetype": "text/x-python",
   "name": "python",
   "nbconvert_exporter": "python",
   "pygments_lexer": "ipython3",
   "version": "3.6.3"
  }
 },
 "nbformat": 4,
 "nbformat_minor": 2
}
